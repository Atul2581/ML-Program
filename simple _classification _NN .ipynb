{
 "cells": [
  {
   "cell_type": "code",
   "execution_count": 9,
   "metadata": {},
   "outputs": [
    {
     "name": "stdout",
     "output_type": "stream",
     "text": [
      "[[20.0, 25.0, 5.2], [22.0, 56.0, 6.1], [24.0, 45.0, 6.0], [25.0, 35.0, 4.7], [23.0, 45.0, 3.5], [22.0, 55.0, 6.0], [34.0, 74.0, 5.5], [43.0, 80.0, 5.9], [72.0, 43.0, 6.3]]\n",
      "[1, 0, 1, 1, 1, 0, 1, 0, 0]\n"
     ]
    }
   ],
   "source": [
    "f = open(\"E:/R/patients.txt\")\n",
    "l = f.readline()\n",
    "lines = f.readlines()\n",
    "x=[]\n",
    "y=[]\n",
    "for line in lines:\n",
    "    w = line.strip().lower().split(\",\")\n",
    "    inp = [float (v) for v in w[0:-1]]\n",
    "    x.append(inp)\n",
    "    if w[-1]==\"yes\":\n",
    "        y.append(1)\n",
    "    else:\n",
    "        y.append(0)\n",
    "print(x)\n",
    "print(y)\n"
   ]
  },
  {
   "cell_type": "code",
   "execution_count": 10,
   "metadata": {},
   "outputs": [
    {
     "name": "stdout",
     "output_type": "stream",
     "text": [
      "current loss 0.2837726644111208\n",
      "tranning is completed after 1 itrration\n"
     ]
    }
   ],
   "source": [
    "import numpy as np\n",
    "ones =np.ones(len(lines))\n",
    "X = np.c_[ones,x]\n",
    "Y = np.c_[y]\n",
    "\n",
    "r1=X.shape[1]   \n",
    "c1=int(r1*1.5) \n",
    "#c2=int(c1*1.5)\n",
    "c4 = 1\n",
    "\n",
    "\n",
    "np.random.seed(101)\n",
    "W1=2*np.random.random((r1,c1))-1  \n",
    "#W2=2*np.random.random((c1,c2))-1  \n",
    "#W3=2*np.random.random((c2,c1))-1  \n",
    "W2=2*np.random.random((c1,c4))-1   \n",
    "\n",
    "\n",
    "def sigmoid(x):\n",
    "    return (1/(1+np.exp(-x)))\n",
    "\n",
    "\n",
    "def loss(y,ycap):\n",
    "    return ((y-ycap)**2).mean()\n",
    "\n",
    "def derivative(x):\n",
    "    return x*(1-x) \n",
    "\n",
    "    \n",
    "ploss=0\n",
    "flag=0\n",
    "for i in range(1000000):\n",
    "    l1= sigmoid(X.dot(W1))   \n",
    "    l2= sigmoid(l1.dot(W2))  \n",
    "    #l3= sigmoid(l2.dot(W3))   \n",
    "    #l4= sigmoid(l3.dot(W4))  \n",
    "\n",
    "    \n",
    "    e2 = Y-l2\n",
    "   \n",
    "    closs=loss(Y,l2)\n",
    "    if i%100==0:\n",
    "        print(\"current loss\",closs)\n",
    "        diff = abs(ploss-closs)\n",
    "        if diff<= 100:\n",
    "            print(\"tranning is completed after\",i+1,\"itrration\")\n",
    "            flag=1\n",
    "            break \n",
    "    #delta4 = e4*derivative(l4)\n",
    "    #e3 = delta4.dot(W4.T)\n",
    "    #delta3 = e3*derivative(l3)\n",
    "    #e2 = delta3.dot(W3.T)\n",
    "    delta2 = e2*derivative(l2)\n",
    "    e1 = delta2.dot(W2.T)\n",
    "    delta1= e1*derivative(l1)\n",
    "    W1+= X.T.dot(delta1)\n",
    "    W2+=l1.T.dot(delta2)\n",
    "    #W3+=l2.T.dot(delta3) \n",
    "    #W4+=l3.T.dot(delta4)\n",
    "    ploss=closs\n",
    "if flag==0:\n",
    "    print(\"traning not completed,\")\n",
    "    \n",
    "    \n",
    "\n",
    "    "
   ]
  },
  {
   "cell_type": "code",
   "execution_count": 11,
   "metadata": {},
   "outputs": [],
   "source": [
    "def pred(x,w):\n",
    "    r = x\n",
    "    for i in w:\n",
    "        r = sigmoid(r.dot(i))\n",
    "    return r\n",
    "\n"
   ]
  },
  {
   "cell_type": "code",
   "execution_count": 12,
   "metadata": {},
   "outputs": [
    {
     "name": "stdout",
     "output_type": "stream",
     "text": [
      "[[0.73725309]\n",
      " [0.74960174]\n",
      " [0.73997407]\n",
      " [0.73777229]\n",
      " [0.74745998]\n",
      " [0.74923918]\n",
      " [0.75091126]\n",
      " [0.74593694]\n",
      " [0.73690942]]\n"
     ]
    }
   ],
   "source": [
    "ycap = pred(X,[W1,W2])\n",
    "print(ycap)\n",
    "ycap[ycap>0.5]=1\n",
    "ycap[ycap<0.5]=0\n",
    "#print(ycap)"
   ]
  },
  {
   "cell_type": "code",
   "execution_count": 21,
   "metadata": {},
   "outputs": [],
   "source": [
    "def accuracy(y,ycap):\n",
    "    c = y==ycap\n",
    "    pcnt = c[c==True].size\n",
    "    n = y.size\n",
    "    acc = pcnt/n*100\n",
    "    return acc\n"
   ]
  },
  {
   "cell_type": "code",
   "execution_count": 22,
   "metadata": {},
   "outputs": [
    {
     "data": {
      "text/plain": [
       "55.55555555555556"
      ]
     },
     "execution_count": 22,
     "metadata": {},
     "output_type": "execute_result"
    }
   ],
   "source": [
    "accuracy(Y,ycap)\n"
   ]
  },
  {
   "cell_type": "code",
   "execution_count": 23,
   "metadata": {},
   "outputs": [],
   "source": [
    "let = np.c_[Y,ycap]"
   ]
  },
  {
   "cell_type": "code",
   "execution_count": 24,
   "metadata": {},
   "outputs": [
    {
     "data": {
      "text/plain": [
       "array([[1., 1.],\n",
       "       [0., 1.],\n",
       "       [1., 1.],\n",
       "       [1., 1.],\n",
       "       [1., 1.],\n",
       "       [0., 1.],\n",
       "       [1., 1.],\n",
       "       [0., 1.],\n",
       "       [0., 1.]])"
      ]
     },
     "execution_count": 24,
     "metadata": {},
     "output_type": "execute_result"
    }
   ],
   "source": [
    "let"
   ]
  },
  {
   "cell_type": "code",
   "execution_count": null,
   "metadata": {},
   "outputs": [],
   "source": []
  }
 ],
 "metadata": {
  "kernelspec": {
   "display_name": "Python 3",
   "language": "python",
   "name": "python3"
  },
  "language_info": {
   "codemirror_mode": {
    "name": "ipython",
    "version": 3
   },
   "file_extension": ".py",
   "mimetype": "text/x-python",
   "name": "python",
   "nbconvert_exporter": "python",
   "pygments_lexer": "ipython3",
   "version": "3.7.4"
  }
 },
 "nbformat": 4,
 "nbformat_minor": 2
}
