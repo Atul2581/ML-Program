{
 "cells": [
  {
   "cell_type": "code",
   "execution_count": 1,
   "metadata": {},
   "outputs": [],
   "source": [
    "import numpy as np"
   ]
  },
  {
   "cell_type": "code",
   "execution_count": 14,
   "metadata": {},
   "outputs": [],
   "source": [
    "age = np.array([40,22,33,45,51,64])\n",
    "wgt = np.array([22,44,62,81,100,62])\n",
    "hgt = np.array([4.1,5.2,4.3,7.4,5.5,6.6])\n"
   ]
  },
  {
   "cell_type": "code",
   "execution_count": 15,
   "metadata": {},
   "outputs": [],
   "source": [
    "o= np.ones(len(age))"
   ]
  },
  {
   "cell_type": "code",
   "execution_count": 16,
   "metadata": {},
   "outputs": [
    {
     "name": "stdout",
     "output_type": "stream",
     "text": [
      "[1. 1. 1. 1. 1. 1.]\n"
     ]
    }
   ],
   "source": [
    "print(o)"
   ]
  },
  {
   "cell_type": "code",
   "execution_count": 71,
   "metadata": {},
   "outputs": [],
   "source": [
    "def poly(x,d):\n",
    "    M=[]\n",
    "    for c in range(x.shape[1]):\n",
    "        col = x[:,c]\n",
    "        for i in range(d):\n",
    "            M.append(col**(i+1))\n",
    "    o = np.ones(x.shape[0])\n",
    "    M= np.array(M).T\n",
    "    return np.c_[o,M]\n",
    "\n"
   ]
  },
  {
   "cell_type": "code",
   "execution_count": 76,
   "metadata": {},
   "outputs": [
    {
     "name": "stdout",
     "output_type": "stream",
     "text": [
      "[[ 40.   22.    4.1]\n",
      " [ 22.   44.    5.2]\n",
      " [ 33.   62.    4.3]\n",
      " [ 45.   81.    7.4]\n",
      " [ 51.  100.    5.5]\n",
      " [ 64.   62.    6.6]]\n"
     ]
    }
   ],
   "source": [
    "X = np.c_[age,wgt,hgt]\n",
    "print(X)"
   ]
  },
  {
   "cell_type": "code",
   "execution_count": 73,
   "metadata": {},
   "outputs": [
    {
     "name": "stdout",
     "output_type": "stream",
     "text": [
      "0\n",
      "[40. 22. 33. 45. 51. 64.]\n",
      "1\n",
      "[ 22.  44.  62.  81. 100.  62.]\n",
      "2\n",
      "[4.1 5.2 4.3 7.4 5.5 6.6]\n",
      "[[ 40.   22.    4.1]\n",
      " [ 22.   44.    5.2]\n",
      " [ 33.   62.    4.3]\n",
      " [ 45.   81.    7.4]\n",
      " [ 51.  100.    5.5]\n",
      " [ 64.   62.    6.6]]\n"
     ]
    }
   ],
   "source": [
    "\n",
    "L = poly(X,1)"
   ]
  },
  {
   "cell_type": "code",
   "execution_count": 64,
   "metadata": {},
   "outputs": [
    {
     "name": "stdout",
     "output_type": "stream",
     "text": [
      "[[  1.   40.   22.    4.1]\n",
      " [  1.   22.   44.    5.2]\n",
      " [  1.   33.   62.    4.3]\n",
      " [  1.   45.   81.    7.4]\n",
      " [  1.   51.  100.    5.5]\n",
      " [  1.   64.   62.    6.6]]\n"
     ]
    }
   ],
   "source": [
    "print(L)"
   ]
  },
  {
   "cell_type": "code",
   "execution_count": null,
   "metadata": {},
   "outputs": [],
   "source": [
    "Q = poly(X,2)"
   ]
  },
  {
   "cell_type": "code",
   "execution_count": null,
   "metadata": {},
   "outputs": [],
   "source": [
    "print(Q)"
   ]
  },
  {
   "cell_type": "code",
   "execution_count": null,
   "metadata": {},
   "outputs": [],
   "source": []
  }
 ],
 "metadata": {
  "kernelspec": {
   "display_name": "Python 3",
   "language": "python",
   "name": "python3"
  },
  "language_info": {
   "codemirror_mode": {
    "name": "ipython",
    "version": 3
   },
   "file_extension": ".py",
   "mimetype": "text/x-python",
   "name": "python",
   "nbconvert_exporter": "python",
   "pygments_lexer": "ipython3",
   "version": "3.7.4"
  }
 },
 "nbformat": 4,
 "nbformat_minor": 2
}
