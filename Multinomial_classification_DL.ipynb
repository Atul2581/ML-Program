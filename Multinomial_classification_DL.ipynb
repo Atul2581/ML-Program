{
 "cells": [
  {
   "cell_type": "code",
   "execution_count": 2,
   "metadata": {},
   "outputs": [],
   "source": [
    "import numpy as np\n",
    "f = open(\"E:/R/multinomila_patients_3label.txt\")"
   ]
  },
  {
   "cell_type": "code",
   "execution_count": 3,
   "metadata": {},
   "outputs": [],
   "source": [
    "h =f.readline()\n"
   ]
  },
  {
   "cell_type": "code",
   "execution_count": 4,
   "metadata": {},
   "outputs": [],
   "source": [
    "lines= f.readlines()"
   ]
  },
  {
   "cell_type": "code",
   "execution_count": 5,
   "metadata": {},
   "outputs": [],
   "source": [
    "x=[]\n",
    "label=[]\n",
    "for line in lines:\n",
    "    w = line.strip().split(\",\")\n",
    "    ins = w[1:-1]\n",
    "    inputs= [float(v) for v in ins]\n",
    "    x.append(inputs)\n",
    "    label.append(w[-1])\n",
    "    \n"
   ]
  },
  {
   "cell_type": "code",
   "execution_count": 6,
   "metadata": {},
   "outputs": [
    {
     "name": "stdout",
     "output_type": "stream",
     "text": [
      "[[20.0, 25.0, 5.2], [22.0, 56.0, 6.1], [24.0, 45.0, 6.0], [25.0, 35.0, 4.7], [23.0, 45.0, 3.5], [22.0, 55.0, 6.0], [34.0, 74.0, 5.5], [43.0, 80.0, 5.9], [72.0, 43.0, 6.3], [43.0, 54.0, 6.6], [74.0, 55.0, 5.5], [76.0, 54.0, 4.5]]\n"
     ]
    }
   ],
   "source": [
    "print(x)"
   ]
  },
  {
   "cell_type": "code",
   "execution_count": 7,
   "metadata": {},
   "outputs": [
    {
     "name": "stdout",
     "output_type": "stream",
     "text": [
      "['low', 'high', 'moderat', 'low', 'low', 'high', 'high', 'moderat', 'moderat', 'high', 'low', 'low']\n"
     ]
    }
   ],
   "source": [
    "print(label)"
   ]
  },
  {
   "cell_type": "code",
   "execution_count": 8,
   "metadata": {},
   "outputs": [],
   "source": [
    "def sd(x):\n",
    "    return (((x-x.mean())**2).sum()/(x.size-1))**0.5\n",
    "\n",
    "def scale(x): \n",
    "    return (x-x.mean())/sd(x)\n",
    "\n",
    "def scaleMAtrix(x):\n",
    "    for i in range(x.shape[1]):\n",
    "        cal = x[:,i]\n",
    "        x[:,i]=scale(cal)\n",
    "    o = np.ones(x.shape[0])\n",
    "    return np.c_[o,x]"
   ]
  },
  {
   "cell_type": "code",
   "execution_count": null,
   "metadata": {},
   "outputs": [],
   "source": [
    "\n",
    "    "
   ]
  },
  {
   "cell_type": "code",
   "execution_count": 9,
   "metadata": {},
   "outputs": [],
   "source": [
    "x= np.array(x)\n"
   ]
  },
  {
   "cell_type": "code",
   "execution_count": 10,
   "metadata": {},
   "outputs": [
    {
     "name": "stdout",
     "output_type": "stream",
     "text": [
      "[[20.  25.   5.2]\n",
      " [22.  56.   6.1]\n",
      " [24.  45.   6. ]\n",
      " [25.  35.   4.7]\n",
      " [23.  45.   3.5]\n",
      " [22.  55.   6. ]\n",
      " [34.  74.   5.5]\n",
      " [43.  80.   5.9]\n",
      " [72.  43.   6.3]\n",
      " [43.  54.   6.6]\n",
      " [74.  55.   5.5]\n",
      " [76.  54.   4.5]]\n"
     ]
    }
   ],
   "source": [
    "print(x)"
   ]
  },
  {
   "cell_type": "code",
   "execution_count": 11,
   "metadata": {},
   "outputs": [],
   "source": [
    "X = scaleMAtrix(x)"
   ]
  },
  {
   "cell_type": "code",
   "execution_count": 12,
   "metadata": {},
   "outputs": [
    {
     "name": "stdout",
     "output_type": "stream",
     "text": [
      "[[ 1.         -0.89951806 -1.77218042 -0.32050069]\n",
      " [ 1.         -0.80881036  0.28156138  0.69756033]\n",
      " [ 1.         -0.71810266 -0.44718571  0.58444244]\n",
      " [ 1.         -0.6727488  -1.10968307 -0.88609015]\n",
      " [ 1.         -0.76345651 -0.44718571 -2.24350484]\n",
      " [ 1.         -0.80881036  0.21531164  0.58444244]\n",
      " [ 1.         -0.26456414  1.47405661  0.01885298]\n",
      " [ 1.          0.14362053  1.87155502  0.47132455]\n",
      " [ 1.          1.45888224 -0.57968518  0.92379611]\n",
      " [ 1.          0.14362053  0.1490619   1.26314978]\n",
      " [ 1.          1.54958994  0.21531164  0.01885298]\n",
      " [ 1.          1.64029765  0.1490619  -1.11232593]]\n"
     ]
    }
   ],
   "source": [
    "print(X)"
   ]
  },
  {
   "cell_type": "code",
   "execution_count": 13,
   "metadata": {},
   "outputs": [],
   "source": [
    "d = {w:i for i,w in enumerate(list(set(label)))}"
   ]
  },
  {
   "cell_type": "code",
   "execution_count": 14,
   "metadata": {},
   "outputs": [
    {
     "name": "stdout",
     "output_type": "stream",
     "text": [
      "{'low': 0, 'moderat': 1, 'high': 2}\n"
     ]
    }
   ],
   "source": [
    "print(d)\n"
   ]
  },
  {
   "cell_type": "code",
   "execution_count": 15,
   "metadata": {},
   "outputs": [],
   "source": [
    "#transfor all label into numeric label\n",
    "num = [d[l] for l in label]"
   ]
  },
  {
   "cell_type": "code",
   "execution_count": 16,
   "metadata": {},
   "outputs": [
    {
     "data": {
      "text/plain": [
       "[0, 2, 1, 0, 0, 2, 2, 1, 1, 2, 0, 0]"
      ]
     },
     "execution_count": 16,
     "metadata": {},
     "output_type": "execute_result"
    }
   ],
   "source": [
    "num"
   ]
  },
  {
   "cell_type": "code",
   "execution_count": null,
   "metadata": {},
   "outputs": [],
   "source": []
  },
  {
   "cell_type": "code",
   "execution_count": 17,
   "metadata": {},
   "outputs": [],
   "source": [
    "#transform numeric label into binaray array\n",
    "b=[]\n",
    "for i in num:\n",
    "    barr = np.zeros(len(set(num)))\n",
    "    barr[i]=1\n",
    "    b.append(barr)\n",
    "    "
   ]
  },
  {
   "cell_type": "code",
   "execution_count": 18,
   "metadata": {},
   "outputs": [
    {
     "name": "stdout",
     "output_type": "stream",
     "text": [
      "[[1. 0. 0.]\n",
      " [0. 0. 1.]\n",
      " [0. 1. 0.]\n",
      " [1. 0. 0.]\n",
      " [1. 0. 0.]\n",
      " [0. 0. 1.]\n",
      " [0. 0. 1.]\n",
      " [0. 1. 0.]\n",
      " [0. 1. 0.]\n",
      " [0. 0. 1.]\n",
      " [1. 0. 0.]\n",
      " [1. 0. 0.]]\n"
     ]
    }
   ],
   "source": [
    "#label matrix with binarry array\n",
    "Y = np.array(b)\n",
    "\n",
    "Y = np.c_[Y]\n",
    "print(Y)"
   ]
  },
  {
   "cell_type": "code",
   "execution_count": 19,
   "metadata": {},
   "outputs": [
    {
     "name": "stdout",
     "output_type": "stream",
     "text": [
      "['low', 'high', 'moderat', 'low', 'low', 'high', 'high', 'moderat', 'moderat', 'high', 'low', 'low']\n",
      "[0, 2, 1, 0, 0, 2, 2, 1, 1, 2, 0, 0]\n",
      "[[1. 0. 0.]\n",
      " [0. 0. 1.]\n",
      " [0. 1. 0.]\n",
      " [1. 0. 0.]\n",
      " [1. 0. 0.]\n",
      " [0. 0. 1.]\n",
      " [0. 0. 1.]\n",
      " [0. 1. 0.]\n",
      " [0. 1. 0.]\n",
      " [0. 0. 1.]\n",
      " [1. 0. 0.]\n",
      " [1. 0. 0.]]\n"
     ]
    }
   ],
   "source": [
    "def Sigmoid(x):\n",
    "    return 1/(1+np.exp(-x))\n",
    "def pred(x,w):\n",
    "    r = x\n",
    "    for i in w:\n",
    "        r=  Sigmoid(x.dot(i))\n",
    "    return r\n",
    "def derivativ(x):\n",
    "    return x*(1-x)\n",
    "def losss(y,ycap):\n",
    "    return (y*np.log(ycap)).sum()*-1\n",
    "def loss(y,ycap):\n",
    "    return ((y-ycap)**2).mean()\n",
    "\n",
    "    \n",
    "\n",
    "\n",
    "print(label)\n",
    "print(num)\n",
    "print(Y)"
   ]
  },
  {
   "cell_type": "code",
   "execution_count": 20,
   "metadata": {},
   "outputs": [],
   "source": [
    "#intiate random weight\n",
    "np.random.seed(101)\n",
    "r1 = X.shape[1]"
   ]
  },
  {
   "cell_type": "code",
   "execution_count": 21,
   "metadata": {},
   "outputs": [],
   "source": [
    "h1 = int(r1*1.5)\n",
    "h2 = int(h1*1.5)\n",
    "h3 = h1\n",
    "op = Y.shape[1]"
   ]
  },
  {
   "cell_type": "code",
   "execution_count": 24,
   "metadata": {},
   "outputs": [
    {
     "name": "stdout",
     "output_type": "stream",
     "text": [
      "[[ 0.23089606  2.90222053 -0.77245169  3.42520594  0.3821061   1.90462201]\n",
      " [ 3.55331131  3.96295523 -0.6888798   3.64240719  1.58580303  3.72691043]\n",
      " [ 1.73465542  0.32080815  2.2360674   1.31492698  2.15503576  1.5561815 ]\n",
      " [ 0.11190443  2.67247694  2.99830683  3.38310829  0.51311901  2.04635833]]\n",
      "(6, 9)\n",
      "(9, 6)\n",
      "(6, 3)\n"
     ]
    },
    {
     "data": {
      "text/plain": [
       "0.6933472351522674"
      ]
     },
     "execution_count": 24,
     "metadata": {},
     "output_type": "execute_result"
    }
   ],
   "source": [
    "W1 = 5*np.random.random((r1,h1))-1\n",
    "W2 = 2*np.random.random((h1,h2))-1\n",
    "W3 = 2*np.random.random((h2,h3))-1\n",
    "W4 = 2*np.random.random((h3,op))-1\n",
    "print(W1)\n",
    "print(W2.shape)\n",
    "print(W3.shape)\n",
    "print(W4.shape)\n",
    "np.random.random()"
   ]
  },
  {
   "cell_type": "code",
   "execution_count": 23,
   "metadata": {},
   "outputs": [
    {
     "name": "stdout",
     "output_type": "stream",
     "text": [
      "current loss 0.2630824986566051\n",
      "current loss 9.350020594298724e-05\n",
      "current loss 4.187528539183296e-05\n",
      "current loss 2.6671114279451837e-05\n",
      "current loss 1.9460123878715032e-05\n",
      "current loss 1.526910610705567e-05\n",
      "current loss 1.253665666226776e-05\n",
      "current loss 1.0617735910270686e-05\n",
      "current loss 9.198030500995447e-06\n",
      "tranining complete\n"
     ]
    }
   ],
   "source": [
    "#Train\n",
    "ploss=0\n",
    "flag=0\n",
    "conv = 1e-9\n",
    "for i in range(1000000):\n",
    "    l1 = Sigmoid(X.dot(W1))\n",
    "    l2 = Sigmoid(l1.dot(W2))\n",
    "    l3 = Sigmoid(l2.dot(W3))\n",
    "    l4 = Sigmoid(l3.dot(W4))\n",
    "   \n",
    "    closs = loss(Y,l4)\n",
    "    if i%1000==0:\n",
    "        print(\"current loss\",closs)\n",
    "    if abs(ploss-closs)<=conv:\n",
    "        print(\"tranining complete\")\n",
    "        flag = 1\n",
    "        break\n",
    "        \n",
    "    e4 = Y-l4\n",
    "    d4 = e4*derivativ(l4)\n",
    "    e3 = d4.dot(W4.T)\n",
    "    d3 = e3*derivativ(l3)\n",
    "    e2 = d3.dot(W3.T)\n",
    "    d2 = e2*derivativ(l2)\n",
    "    e1 = d2.dot(W2.T)\n",
    "    d1 = e1*derivativ(l1)\n",
    "    \n",
    "    W1+= X.T.dot(d1)\n",
    "    W2+= l1.T.dot(d2)\n",
    "    W3+= l2.T.dot(d3)\n",
    "    W4+= l3.T.dot(d4)\n",
    "    \n",
    "    ploss= closs\n",
    "if flag ==0:\n",
    "    print(\"Traninig not completed\")\n",
    "    \n",
    "    \n",
    "    "
   ]
  },
  {
   "cell_type": "code",
   "execution_count": null,
   "metadata": {},
   "outputs": [],
   "source": []
  },
  {
   "cell_type": "code",
   "execution_count": 23,
   "metadata": {},
   "outputs": [],
   "source": [
    "def pred(x,w):\n",
    "    r=x\n",
    "    for i in w:\n",
    "        r=Sigmoid(r.dot(i))\n",
    "    return r   "
   ]
  },
  {
   "cell_type": "code",
   "execution_count": 24,
   "metadata": {},
   "outputs": [],
   "source": [
    "yc=pred(X,[W1,W2,W3,W4])"
   ]
  },
  {
   "cell_type": "code",
   "execution_count": 25,
   "metadata": {},
   "outputs": [
    {
     "name": "stdout",
     "output_type": "stream",
     "text": [
      "[[9.96956657e-01 4.28405006e-05 3.41913543e-03]\n",
      " [5.50716162e-05 9.97542049e-01 3.07690167e-03]\n",
      " [4.76831075e-03 4.71312828e-03 9.92009577e-01]\n",
      " [9.97025336e-01 4.24407501e-05 3.34730058e-03]\n",
      " [9.97232375e-01 4.00633677e-05 3.17482097e-03]\n",
      " [5.75054164e-05 9.97184027e-01 3.40390826e-03]\n",
      " [6.31360086e-05 9.95547582e-01 5.14127476e-03]\n",
      " [2.19268587e-03 4.49584718e-03 9.95584255e-01]\n",
      " [4.18545018e-03 1.47955384e-03 9.96478757e-01]\n",
      " [6.03835260e-05 9.96727288e-01 3.76573856e-03]\n",
      " [9.96495799e-01 2.74991082e-05 3.93194156e-03]\n",
      " [9.97483210e-01 2.67498115e-05 2.62062991e-03]]\n"
     ]
    }
   ],
   "source": [
    "print(yc)"
   ]
  },
  {
   "cell_type": "code",
   "execution_count": 26,
   "metadata": {},
   "outputs": [
    {
     "name": "stdout",
     "output_type": "stream",
     "text": [
      "[[1. 0. 0.]\n",
      " [0. 1. 0.]\n",
      " [0. 0. 1.]\n",
      " [1. 0. 0.]\n",
      " [1. 0. 0.]\n",
      " [0. 1. 0.]\n",
      " [0. 1. 0.]\n",
      " [0. 0. 1.]\n",
      " [0. 0. 1.]\n",
      " [0. 1. 0.]\n",
      " [1. 0. 0.]\n",
      " [1. 0. 0.]]\n"
     ]
    }
   ],
   "source": [
    "yc[yc>0.5]=1\n",
    "yc[yc<0.5]=0\n",
    "print(yc)"
   ]
  },
  {
   "cell_type": "code",
   "execution_count": 27,
   "metadata": {},
   "outputs": [],
   "source": [
    "Yc = [int(np.where(arr==1)[0]) for arr in yc] "
   ]
  },
  {
   "cell_type": "code",
   "execution_count": 28,
   "metadata": {},
   "outputs": [
    {
     "name": "stdout",
     "output_type": "stream",
     "text": [
      "[0, 1, 2, 0, 0, 1, 1, 2, 2, 1, 0, 0]\n"
     ]
    }
   ],
   "source": [
    "print(Yc)"
   ]
  },
  {
   "cell_type": "code",
   "execution_count": 29,
   "metadata": {},
   "outputs": [],
   "source": [
    "def accuracy(y,ycap):\n",
    "    c= y==ycap\n",
    "    return c[c==True].size/y.shape[0]*100"
   ]
  },
  {
   "cell_type": "code",
   "execution_count": 30,
   "metadata": {},
   "outputs": [
    {
     "data": {
      "text/plain": [
       "100.0"
      ]
     },
     "execution_count": 30,
     "metadata": {},
     "output_type": "execute_result"
    }
   ],
   "source": [
    "accuracy(np.array(num),Yc)"
   ]
  },
  {
   "cell_type": "code",
   "execution_count": 39,
   "metadata": {},
   "outputs": [
    {
     "name": "stdout",
     "output_type": "stream",
     "text": [
      "[[0.59942834 0.45799236 0.15443743 0.34367565 0.50098003]\n",
      " [0.56740736 0.03516661 0.65712057 0.29727266 0.59561068]\n",
      " [0.60781036 0.47712018 0.66348023 0.59364482 0.82750544]]\n"
     ]
    }
   ],
   "source": [
    "sample = np.random.rand(3, 5)\n",
    "print(sample)"
   ]
  },
  {
   "cell_type": "code",
   "execution_count": 40,
   "metadata": {},
   "outputs": [
    {
     "name": "stdout",
     "output_type": "stream",
     "text": [
      "[[0.59942834 0.45799236 0.15443743 0.34367565 0.50098003]\n",
      " [0.56740736 0.03516661 0.65712057 0.29727266 0.59561068]\n",
      " [0.60781036 0.47712018 0.66348023 0.59364482 0.82750544]]\n"
     ]
    }
   ],
   "source": [
    "sample1 = np.random.random_sample((3, 5))\n",
    "print(sample)"
   ]
  },
  {
   "cell_type": "markdown",
   "metadata": {},
   "source": []
  },
  {
   "cell_type": "code",
   "execution_count": 66,
   "metadata": {},
   "outputs": [
    {
     "name": "stdout",
     "output_type": "stream",
     "text": [
      "[[0.68913435 0.4902087  0.14215381 0.53385991 0.05080687]\n",
      " [0.89271852 0.74791018 0.02457922 0.284852   0.42510608]\n",
      " [0.97544924 0.02247369 0.26014278 0.39412181 0.81974193]]\n"
     ]
    }
   ],
   "source": [
    "sample3= np.random.random((3,5))\n",
    "print(sample3)"
   ]
  },
  {
   "cell_type": "code",
   "execution_count": 74,
   "metadata": {},
   "outputs": [
    {
     "name": "stdout",
     "output_type": "stream",
     "text": [
      "[[-0.4332064   0.99244901  0.97634475 -0.01478116 -0.10002779]\n",
      " [ 0.86133848  0.77697675  0.99197349  0.8852085  -0.52800261]\n",
      " [ 0.73752381 -0.88648467  0.27550391  0.87658084  0.87331374]]\n"
     ]
    }
   ],
   "source": [
    "b = 2*np.random.random((3,5))-1\n",
    "print(b)"
   ]
  },
  {
   "cell_type": "code",
   "execution_count": 78,
   "metadata": {},
   "outputs": [],
   "source": [
    "a = np.array((2,4))"
   ]
  },
  {
   "cell_type": "code",
   "execution_count": 80,
   "metadata": {},
   "outputs": [
    {
     "name": "stdout",
     "output_type": "stream",
     "text": [
      "[3 7]\n"
     ]
    }
   ],
   "source": [
    "aa = 2*a-1\n",
    "print(aa)"
   ]
  },
  {
   "cell_type": "code",
   "execution_count": null,
   "metadata": {},
   "outputs": [],
   "source": []
  }
 ],
 "metadata": {
  "kernelspec": {
   "display_name": "Python 3",
   "language": "python",
   "name": "python3"
  },
  "language_info": {
   "codemirror_mode": {
    "name": "ipython",
    "version": 3
   },
   "file_extension": ".py",
   "mimetype": "text/x-python",
   "name": "python",
   "nbconvert_exporter": "python",
   "pygments_lexer": "ipython3",
   "version": "3.7.4"
  }
 },
 "nbformat": 4,
 "nbformat_minor": 2
}
