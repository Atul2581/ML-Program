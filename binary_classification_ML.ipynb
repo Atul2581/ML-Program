{
 "cells": [
  {
   "cell_type": "code",
   "execution_count": 1,
   "metadata": {},
   "outputs": [],
   "source": [
    "import numpy as np\n",
    "f= open(\"E:/R/binary_classification.txt\") "
   ]
  },
  {
   "cell_type": "code",
   "execution_count": null,
   "metadata": {},
   "outputs": [],
   "source": []
  },
  {
   "cell_type": "code",
   "execution_count": null,
   "metadata": {},
   "outputs": [],
   "source": []
  },
  {
   "cell_type": "code",
   "execution_count": 2,
   "metadata": {},
   "outputs": [],
   "source": [
    "lines = f.readlines()[1:]"
   ]
  },
  {
   "cell_type": "code",
   "execution_count": 3,
   "metadata": {},
   "outputs": [
    {
     "name": "stdout",
     "output_type": "stream",
     "text": [
      "['aaa,25,60,5.9,yes\\n', 'bbbb,26,67,6.0,no\\n', 'cccc,45,78,5.5,yes\\n', 'dddd,56,80,5.9,no\\n', 'eeee,55,81,6.0,no\\n', 'ffffff,56,79,5.11,no\\n', 'gggg,55,79,5.4,yes\\n', 'iii,56,89,5.9,yes\\n', 'hh,49,70,5.6,no\\n', 'jjjj,49,75,5.6,yes\\n', 'kkkkk,52,80,5.7,yes']\n"
     ]
    }
   ],
   "source": [
    "print(lines)"
   ]
  },
  {
   "cell_type": "code",
   "execution_count": 4,
   "metadata": {},
   "outputs": [],
   "source": [
    "x=[]\n",
    "y=[]\n",
    "for line in lines:\n",
    "    w = line.strip().split(\",\")\n",
    "    i = w[1:-1]\n",
    "    ins = [float(v) for v in i]\n",
    "    x.append(ins)\n",
    "    lab = w[-1]\n",
    "    if lab==\"yes\":\n",
    "        y.append(1)\n",
    "    else:\n",
    "        y.append(0)\n",
    "        \n",
    "    "
   ]
  },
  {
   "cell_type": "code",
   "execution_count": 5,
   "metadata": {},
   "outputs": [
    {
     "name": "stdout",
     "output_type": "stream",
     "text": [
      "[[25.0, 60.0, 5.9], [26.0, 67.0, 6.0], [45.0, 78.0, 5.5], [56.0, 80.0, 5.9], [55.0, 81.0, 6.0], [56.0, 79.0, 5.11], [55.0, 79.0, 5.4], [56.0, 89.0, 5.9], [49.0, 70.0, 5.6], [49.0, 75.0, 5.6], [52.0, 80.0, 5.7]]\n"
     ]
    }
   ],
   "source": [
    "print(x)"
   ]
  },
  {
   "cell_type": "code",
   "execution_count": 6,
   "metadata": {},
   "outputs": [
    {
     "name": "stdout",
     "output_type": "stream",
     "text": [
      "[1, 0, 1, 0, 0, 0, 1, 1, 0, 1, 1]\n"
     ]
    }
   ],
   "source": [
    "print(y)"
   ]
  },
  {
   "cell_type": "markdown",
   "metadata": {},
   "source": [
    "## scaling inupt matrix only in classification problem"
   ]
  },
  {
   "cell_type": "code",
   "execution_count": 7,
   "metadata": {},
   "outputs": [],
   "source": [
    "def sd(x):\n",
    "    return (((x-x.mean())**2).sum()/(x.size-1))**0.5\n",
    "def scale(x):\n",
    "    return (x-x.mean())/sd(x)\n",
    "def scaleMatrix(x):\n",
    "    for i in range(x.shape[1]):\n",
    "        col = x[:,i]\n",
    "        x[:,i]=scale(col)    \n",
    "    o = np.ones(x.shape[0])\n",
    "    return np.c_[o,x]"
   ]
  },
  {
   "cell_type": "code",
   "execution_count": 8,
   "metadata": {},
   "outputs": [
    {
     "name": "stdout",
     "output_type": "stream",
     "text": [
      "[[1]\n",
      " [0]\n",
      " [1]\n",
      " [0]\n",
      " [0]\n",
      " [0]\n",
      " [1]\n",
      " [1]\n",
      " [0]\n",
      " [1]\n",
      " [1]]\n"
     ]
    }
   ],
   "source": [
    "\n",
    "x = np.array(x)\n",
    "X =np.array(x)\n",
    "ins = np.array(x)\n",
    "X = scaleMatrix(ins)\n",
    "#print(X)\n",
    "Y = np.c_[y]\n",
    "print(Y)\n"
   ]
  },
  {
   "cell_type": "markdown",
   "metadata": {},
   "source": [
    "### defining function "
   ]
  },
  {
   "cell_type": "code",
   "execution_count": 9,
   "metadata": {},
   "outputs": [],
   "source": [
    "def sigmoid(x):\n",
    "    return 1/(1+np.exp(-x))\n",
    "\n",
    "def loss(y,ycap):\n",
    "    return ((y-ycap)**2).mean()\n",
    "\n",
    "def derivativ(x):\n",
    "    return x*(1-x)\n"
   ]
  },
  {
   "cell_type": "code",
   "execution_count": 10,
   "metadata": {},
   "outputs": [
    {
     "name": "stdout",
     "output_type": "stream",
     "text": [
      "(4, 1)\n"
     ]
    }
   ],
   "source": [
    "np.random.seed(101)\n",
    "W = 2*np.random.random((X.shape[1], Y.shape[1]))\n",
    "print(W.shape)\n"
   ]
  },
  {
   "cell_type": "markdown",
   "metadata": {},
   "source": [
    "### traning "
   ]
  },
  {
   "cell_type": "code",
   "execution_count": 17,
   "metadata": {},
   "outputs": [
    {
     "name": "stdout",
     "output_type": "stream",
     "text": [
      "current loss 1 itreation 0.4011324700769752\n",
      "current loss 11 itreation 0.4012910622560699\n",
      "current loss 21 itreation 0.40144703584995084\n",
      "current loss 31 itreation 0.4016004594461917\n",
      "current loss 41 itreation 0.4017513991756507\n",
      "current loss 51 itreation 0.4018999188228075\n",
      "current loss 61 itreation 0.40204607993018093\n",
      "current loss 71 itreation 0.4021899418971944\n",
      "current loss 81 itreation 0.40233156207383014\n",
      "current loss 91 itreation 0.40247099584939183\n",
      "current loss 101 itreation 0.4026082967366705\n",
      "current loss 111 itreation 0.4027435164517902\n",
      "current loss 121 itreation 0.40287670498998995\n",
      "current loss 131 itreation 0.4030079106975825\n",
      "current loss 141 itreation 0.40313718034031304\n",
      "current loss 151 itreation 0.40326455916832593\n",
      "current loss 161 itreation 0.4033900909779363\n",
      "current loss 171 itreation 0.40351381817038795\n",
      "current loss 181 itreation 0.40363578180776755\n",
      "current loss 191 itreation 0.4037560216662351\n",
      "current loss 201 itreation 0.40387457628672213\n",
      "current loss 211 itreation 0.4039914830232337\n",
      "current loss 221 itreation 0.40410677808888884\n",
      "current loss 231 itreation 0.4042204965998206\n",
      "current loss 241 itreation 0.404332672617053\n",
      "current loss 251 itreation 0.40444333918646036\n",
      "current loss 261 itreation 0.404552528376914\n",
      "current loss 271 itreation 0.4046602713167096\n",
      "current loss 281 itreation 0.40476659822836664\n",
      "current loss 291 itreation 0.40487153846188373\n",
      "current loss 301 itreation 0.40497512052652973\n",
      "current loss 311 itreation 0.4050773721212448\n",
      "current loss 321 itreation 0.40517832016372374\n",
      "current loss 331 itreation 0.40527799081824617\n",
      "current loss 341 itreation 0.40537640952231746\n",
      "current loss 351 itreation 0.40547360101217916\n",
      "current loss 361 itreation 0.4055695893472445\n",
      "current loss 371 itreation 0.4056643979335118\n",
      "current loss 381 itreation 0.4057580495460056\n",
      "current loss 391 itreation 0.405850566350293\n",
      "current loss 401 itreation 0.4059419699231173\n",
      "training completed after 410 iteration\n"
     ]
    }
   ],
   "source": [
    "ploss=0\n",
    "flag=0\n",
    "converg = 0.000009\n",
    "for i in range(1000):\n",
    "    ycap = sigmoid(X.dot(W))\n",
    "    e = Y-ycap\n",
    "    closs = loss(y,ycap)\n",
    "    if i%10==0:\n",
    "        print(\"current loss\",i+1,\"itreation\",closs)\n",
    "    diff = abs(ploss-closs)\n",
    "    if diff<=converg:\n",
    "        print(\"training completed after\",i+1,\"iteration\")\n",
    "        flag=1\n",
    "        break\n",
    "    delta =e*derivativ(ycap)\n",
    "    W+= X.T.dot(delta)\n",
    "    ploss=closs\n",
    "if flag==0:\n",
    "    print(\"traning not completed increase number of iteration\")\n",
    "    "
   ]
  },
  {
   "cell_type": "code",
   "execution_count": 18,
   "metadata": {},
   "outputs": [],
   "source": [
    "prob  = sigmoid(X.dot(W))"
   ]
  },
  {
   "cell_type": "code",
   "execution_count": 19,
   "metadata": {},
   "outputs": [
    {
     "name": "stdout",
     "output_type": "stream",
     "text": [
      "[[0.99999999]\n",
      " [1.        ]\n",
      " [0.99999084]\n",
      " [0.04426869]\n",
      " [0.23041772]\n",
      " [0.39156608]\n",
      " [0.39649525]\n",
      " [0.9967511 ]\n",
      " [0.11312405]\n",
      " [0.94421093]\n",
      " [0.96170723]]\n"
     ]
    }
   ],
   "source": [
    "print(prob)"
   ]
  },
  {
   "cell_type": "code",
   "execution_count": 20,
   "metadata": {},
   "outputs": [
    {
     "name": "stdout",
     "output_type": "stream",
     "text": [
      "[[1.]\n",
      " [1.]\n",
      " [1.]\n",
      " [0.]\n",
      " [0.]\n",
      " [0.]\n",
      " [0.]\n",
      " [1.]\n",
      " [0.]\n",
      " [1.]\n",
      " [1.]]\n"
     ]
    }
   ],
   "source": [
    "prob[prob<0.5]=0\n",
    "prob[prob>0.5]=1\n",
    "print(prob)"
   ]
  },
  {
   "cell_type": "code",
   "execution_count": 21,
   "metadata": {},
   "outputs": [],
   "source": [
    "def accuracy(y,ycap):\n",
    "    c= y==ycap\n",
    "    return c[c==True].size/y.shape[0]*100"
   ]
  },
  {
   "cell_type": "code",
   "execution_count": 22,
   "metadata": {},
   "outputs": [
    {
     "data": {
      "text/plain": [
       "81.81818181818183"
      ]
     },
     "execution_count": 22,
     "metadata": {},
     "output_type": "execute_result"
    }
   ],
   "source": [
    "accuracy(Y,prob)"
   ]
  },
  {
   "cell_type": "code",
   "execution_count": null,
   "metadata": {},
   "outputs": [],
   "source": []
  }
 ],
 "metadata": {
  "kernelspec": {
   "display_name": "Python 3",
   "language": "python",
   "name": "python3"
  },
  "language_info": {
   "codemirror_mode": {
    "name": "ipython",
    "version": 3
   },
   "file_extension": ".py",
   "mimetype": "text/x-python",
   "name": "python",
   "nbconvert_exporter": "python",
   "pygments_lexer": "ipython3",
   "version": "3.7.4"
  }
 },
 "nbformat": 4,
 "nbformat_minor": 2
}
