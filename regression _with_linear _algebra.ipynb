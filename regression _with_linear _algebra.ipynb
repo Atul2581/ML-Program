{
 "cells": [
  {
   "cell_type": "code",
   "execution_count": 1,
   "metadata": {},
   "outputs": [],
   "source": [
    "f = open(\"E:/R/winequality-white.txt\")\n"
   ]
  },
  {
   "cell_type": "code",
   "execution_count": 2,
   "metadata": {},
   "outputs": [
    {
     "name": "stdout",
     "output_type": "stream",
     "text": [
      "['\"fixed acidity\"', '\"volatile acidity\"', '\"citric acid\"', '\"residual sugar\"', '\"chlorides\"', '\"free sulfur dioxide\"', '\"total sulfur dioxide\"', '\"density\"', '\"ph\"', '\"sulphates\"', '\"alcohol\"', '\"quality\"'] 12\n"
     ]
    }
   ],
   "source": [
    "h = f.readline()\n",
    "H = h.strip().lower().split(\";\")\n",
    "print(H,len(H))"
   ]
  },
  {
   "cell_type": "code",
   "execution_count": 3,
   "metadata": {},
   "outputs": [],
   "source": [
    "lines = f.readlines()"
   ]
  },
  {
   "cell_type": "code",
   "execution_count": 4,
   "metadata": {},
   "outputs": [
    {
     "data": {
      "text/plain": [
       "4898"
      ]
     },
     "execution_count": 4,
     "metadata": {},
     "output_type": "execute_result"
    }
   ],
   "source": [
    "len(lines)"
   ]
  },
  {
   "cell_type": "code",
   "execution_count": 37,
   "metadata": {},
   "outputs": [],
   "source": [
    "x=[]\n",
    "y=[]\n",
    "for line in lines:\n",
    "    w=line.strip().split(\";\")\n",
    "    ins = w[0:-1]\n",
    "    inpt = [float(v) for v in ins]\n",
    "    x.append(inpt)\n",
    "    y.append(float(w[-1]))\n",
    "   # print(w[-1])\n",
    "#print(x)\n",
    "#print(y)\n",
    "    \n"
   ]
  },
  {
   "cell_type": "code",
   "execution_count": 46,
   "metadata": {},
   "outputs": [
    {
     "name": "stdout",
     "output_type": "stream",
     "text": [
      "(4898, 12)\n",
      "________________________________________\n",
      "(4898, 1)\n"
     ]
    }
   ],
   "source": [
    "import numpy as np\n",
    "ones = np.ones(len(x))\n",
    "X=np.c_[ones,x]\n",
    "Y= np.c_[y]\n",
    "print(X.shape)\n",
    "print(\"_\"*40)\n",
    "print(Y.shape)"
   ]
  },
  {
   "cell_type": "code",
   "execution_count": 47,
   "metadata": {},
   "outputs": [],
   "source": [
    "#finding weights between X,Y\n",
    "def weights(x,y):\n",
    "    from numpy.linalg import inv\n",
    "    left = inv(x.T.dot(x))\n",
    "    rgt = x.T.dot(y)\n",
    "    return left.dot(rgt)\n",
    "W = weights(X,Y)"
   ]
  },
  {
   "cell_type": "code",
   "execution_count": 54,
   "metadata": {},
   "outputs": [],
   "source": [
    "#findinf predctin & finding accuracy\n",
    "ycap = X.dot(W)\n",
    "def accu(y,ycap,closeness):\n",
    "    de = 100-closeness\n",
    "    dist = abs(y-ycap)/abs(y)*100\n",
    "    pcnt = dist[dist<=de].size\n",
    "    n=y.size\n",
    "    return pcnt/n*100"
   ]
  },
  {
   "cell_type": "code",
   "execution_count": 58,
   "metadata": {},
   "outputs": [
    {
     "data": {
      "text/plain": [
       "59.75908534095549"
      ]
     },
     "execution_count": 58,
     "metadata": {},
     "output_type": "execute_result"
    }
   ],
   "source": [
    "accu(Y,ycap,90)"
   ]
  },
  {
   "cell_type": "code",
   "execution_count": null,
   "metadata": {},
   "outputs": [],
   "source": []
  }
 ],
 "metadata": {
  "kernelspec": {
   "display_name": "Python 3",
   "language": "python",
   "name": "python3"
  },
  "language_info": {
   "codemirror_mode": {
    "name": "ipython",
    "version": 3
   },
   "file_extension": ".py",
   "mimetype": "text/x-python",
   "name": "python",
   "nbconvert_exporter": "python",
   "pygments_lexer": "ipython3",
   "version": "3.7.4"
  }
 },
 "nbformat": 4,
 "nbformat_minor": 2
}
